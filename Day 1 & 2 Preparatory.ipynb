{
 "cells": [
  {
   "cell_type": "code",
   "execution_count": 1,
   "id": "367cacbc",
   "metadata": {},
   "outputs": [],
   "source": [
    "# this text box is called as a cell"
   ]
  },
  {
   "cell_type": "code",
   "execution_count": 3,
   "id": "3d4090c1",
   "metadata": {},
   "outputs": [
    {
     "name": "stdout",
     "output_type": "stream",
     "text": [
      "Hello World\n"
     ]
    }
   ],
   "source": [
    "print('Hello World')"
   ]
  },
  {
   "cell_type": "code",
   "execution_count": 4,
   "id": "81f4e868",
   "metadata": {},
   "outputs": [],
   "source": [
    "# print() is a function in python."
   ]
  },
  {
   "cell_type": "code",
   "execution_count": 5,
   "id": "cded57b4",
   "metadata": {},
   "outputs": [
    {
     "name": "stdout",
     "output_type": "stream",
     "text": [
      "\n"
     ]
    }
   ],
   "source": [
    "print()"
   ]
  },
  {
   "cell_type": "code",
   "execution_count": 6,
   "id": "e6c32310",
   "metadata": {},
   "outputs": [
    {
     "name": "stdout",
     "output_type": "stream",
     "text": [
      "Ajinkya's Computer\n"
     ]
    }
   ],
   "source": [
    "# Ajinkya' Computer\n",
    "print(\"Ajinkya's Computer\")"
   ]
  },
  {
   "cell_type": "code",
   "execution_count": 7,
   "id": "c5c87c77",
   "metadata": {},
   "outputs": [],
   "source": [
    "# Introducing variables in Python."
   ]
  },
  {
   "cell_type": "code",
   "execution_count": 8,
   "id": "045115ad",
   "metadata": {},
   "outputs": [
    {
     "data": {
      "text/plain": [
       "30"
      ]
     },
     "execution_count": 8,
     "metadata": {},
     "output_type": "execute_result"
    }
   ],
   "source": [
    "x=10\n",
    "y=20\n",
    "z=x+y\n",
    "z"
   ]
  },
  {
   "cell_type": "code",
   "execution_count": 9,
   "id": "3bf81092",
   "metadata": {},
   "outputs": [],
   "source": [
    "myname='Ajinkya'"
   ]
  },
  {
   "cell_type": "code",
   "execution_count": 10,
   "id": "109c5cf4",
   "metadata": {},
   "outputs": [
    {
     "data": {
      "text/plain": [
       "int"
      ]
     },
     "execution_count": 10,
     "metadata": {},
     "output_type": "execute_result"
    }
   ],
   "source": [
    "type(z)"
   ]
  },
  {
   "cell_type": "code",
   "execution_count": 12,
   "id": "8b4e5d3a",
   "metadata": {},
   "outputs": [
    {
     "data": {
      "text/plain": [
       "str"
      ]
     },
     "execution_count": 12,
     "metadata": {},
     "output_type": "execute_result"
    }
   ],
   "source": [
    "type(myname)"
   ]
  },
  {
   "cell_type": "code",
   "execution_count": 13,
   "id": "7b76ec9f",
   "metadata": {},
   "outputs": [
    {
     "name": "stdout",
     "output_type": "stream",
     "text": [
      "<class 'int'>\n"
     ]
    }
   ],
   "source": [
    "print(type(x))"
   ]
  },
  {
   "cell_type": "code",
   "execution_count": 14,
   "id": "0bb517f1",
   "metadata": {},
   "outputs": [
    {
     "name": "stdout",
     "output_type": "stream",
     "text": [
      "<class 'str'>\n"
     ]
    }
   ],
   "source": [
    "print(type(myname))"
   ]
  },
  {
   "cell_type": "code",
   "execution_count": 15,
   "id": "a4a70b97",
   "metadata": {},
   "outputs": [
    {
     "name": "stdout",
     "output_type": "stream",
     "text": [
      "10 20 Ajinkya\n"
     ]
    }
   ],
   "source": [
    "print(x,y,myname)"
   ]
  },
  {
   "cell_type": "code",
   "execution_count": 16,
   "id": "4a4cce11",
   "metadata": {},
   "outputs": [
    {
     "name": "stdout",
     "output_type": "stream",
     "text": [
      "My name is Ajinkya\n"
     ]
    }
   ],
   "source": [
    "print(\"My name is \"+ myname)"
   ]
  },
  {
   "cell_type": "code",
   "execution_count": 17,
   "id": "0e6e4a66",
   "metadata": {},
   "outputs": [
    {
     "name": "stdout",
     "output_type": "stream",
     "text": [
      "My name is Ajinkya\n"
     ]
    }
   ],
   "source": [
    "print('My name is', myname)"
   ]
  },
  {
   "cell_type": "code",
   "execution_count": null,
   "id": "0f1c943d",
   "metadata": {},
   "outputs": [],
   "source": []
  }
 ],
 "metadata": {
  "kernelspec": {
   "display_name": "Python 3 (ipykernel)",
   "language": "python",
   "name": "python3"
  },
  "language_info": {
   "codemirror_mode": {
    "name": "ipython",
    "version": 3
   },
   "file_extension": ".py",
   "mimetype": "text/x-python",
   "name": "python",
   "nbconvert_exporter": "python",
   "pygments_lexer": "ipython3",
   "version": "3.9.12"
  }
 },
 "nbformat": 4,
 "nbformat_minor": 5
}
